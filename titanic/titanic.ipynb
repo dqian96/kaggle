{
 "cells": [
  {
   "cell_type": "markdown",
   "metadata": {},
   "source": [
    "## Titanic: Machine Learning from Disaster\n",
    "\n",
    "The Kaggle contest can be found [here](https://www.kaggle.com/c/titanic)."
   ]
  },
  {
   "cell_type": "markdown",
   "metadata": {},
   "source": [
    "### 1. Problem Statement\n",
    "\n",
    "The sinking of the RMS Titanic is one of the most infamous shipwrecks in history. Due to limited life boats, not all on board were able to survive. The likelihood of survival was found to be dependent on only on luck, but also on age, gender, social status, etc.\n",
    "\n",
    "In this challenge, we are given a binary classification problem - from a given set of people, predict who surivived the shipwreck.\n",
    "\n",
    "**Input**: a set of people and various properties such as age, gender, etc.\n",
    "\n",
    "**Output**: whether or not each person survived"
   ]
  },
  {
   "cell_type": "markdown",
   "metadata": {},
   "source": [
    "### 2. Gathering Data\n",
    "\n",
    "Data has been provided by Kaggle.\n",
    "\n",
    "[Training data](data/train.csv)\n",
    "\n",
    "[Test data](data/test.csv)\n",
    "\n",
    "[Gender Submission](data/gender_submission.csv)"
   ]
  },
  {
   "cell_type": "markdown",
   "metadata": {},
   "source": [
    "### 3. Data Preparation\n",
    "\n",
    "#### 3.1 Imports"
   ]
  },
  {
   "cell_type": "code",
   "execution_count": 1,
   "metadata": {
    "scrolled": true
   },
   "outputs": [
    {
     "name": "stdout",
     "output_type": "stream",
     "text": [
      "Hello world\n"
     ]
    }
   ],
   "source": [
    "import pandas as pd #collection of functions for data processing and analysis modeled after R dataframes with SQL like features\n",
    "import matplotlib #collection of functions for scientific and publication-ready visualization\n",
    "import numpy as np #foundational package for scientific computing\n",
    "import scipy as sp #collection of functions for scientific computing and advance mathematics\n",
    "import IPython\n",
    "from IPython import display #pretty printing of dataframes in Jupyter notebook\n",
    "import sklearn              #collection of machine learning algorithms\n",
    "\n",
    "print(\"Hello world\")"
   ]
  },
  {
   "cell_type": "code",
   "execution_count": null,
   "metadata": {},
   "outputs": [],
   "source": []
  }
 ],
 "metadata": {
  "kernelspec": {
   "display_name": "jupyter",
   "language": "python",
   "name": "jupyter"
  },
  "language_info": {
   "codemirror_mode": {
    "name": "ipython",
    "version": 3
   },
   "file_extension": ".py",
   "mimetype": "text/x-python",
   "name": "python",
   "nbconvert_exporter": "python",
   "pygments_lexer": "ipython3",
   "version": "3.6.2"
  }
 },
 "nbformat": 4,
 "nbformat_minor": 2
}
